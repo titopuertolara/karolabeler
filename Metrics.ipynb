{
 "cells": [
  {
   "cell_type": "code",
   "execution_count": 2,
   "id": "0eb73b41",
   "metadata": {},
   "outputs": [
    {
     "name": "stderr",
     "output_type": "stream",
     "text": [
      "/usr/lib/python3/dist-packages/scipy/__init__.py:146: UserWarning: A NumPy version >=1.17.3 and <1.25.0 is required for this version of SciPy (detected version 1.26.3\n",
      "  warnings.warn(f\"A NumPy version >={np_minversion} and <{np_maxversion}\"\n"
     ]
    }
   ],
   "source": [
    "import sqlite3\n",
    "import pandas as pd\n",
    "from sklearn.metrics import classification_report"
   ]
  },
  {
   "cell_type": "code",
   "execution_count": 3,
   "id": "65d1b116",
   "metadata": {},
   "outputs": [],
   "source": [
    "conn=sqlite3.connect('main_database_semantic_1.db')"
   ]
  },
  {
   "cell_type": "code",
   "execution_count": 4,
   "id": "b4b32ce6",
   "metadata": {},
   "outputs": [],
   "source": [
    "data=pd.read_sql(\"\"\"SELECT * FROM documents\"\"\",conn)"
   ]
  },
  {
   "cell_type": "code",
   "execution_count": 5,
   "id": "9771573a",
   "metadata": {},
   "outputs": [
    {
     "data": {
      "text/html": [
       "<div>\n",
       "<style scoped>\n",
       "    .dataframe tbody tr th:only-of-type {\n",
       "        vertical-align: middle;\n",
       "    }\n",
       "\n",
       "    .dataframe tbody tr th {\n",
       "        vertical-align: top;\n",
       "    }\n",
       "\n",
       "    .dataframe thead th {\n",
       "        text-align: right;\n",
       "    }\n",
       "</style>\n",
       "<table border=\"1\" class=\"dataframe\">\n",
       "  <thead>\n",
       "    <tr style=\"text-align: right;\">\n",
       "      <th></th>\n",
       "      <th>id</th>\n",
       "      <th>old_id</th>\n",
       "      <th>name</th>\n",
       "      <th>text</th>\n",
       "      <th>text_type</th>\n",
       "      <th>real_label</th>\n",
       "      <th>paragraph_id</th>\n",
       "      <th>paragraph_pos</th>\n",
       "    </tr>\n",
       "  </thead>\n",
       "  <tbody>\n",
       "    <tr>\n",
       "      <th>0</th>\n",
       "      <td>0</td>\n",
       "      <td>100549</td>\n",
       "      <td>T-497-06</td>\n",
       "      <td>la sentencia proferida por el Juzgado Tercero ...</td>\n",
       "      <td>normal</td>\n",
       "      <td>normal</td>\n",
       "      <td>100</td>\n",
       "      <td>17</td>\n",
       "    </tr>\n",
       "    <tr>\n",
       "      <th>1</th>\n",
       "      <td>1</td>\n",
       "      <td>268479</td>\n",
       "      <td>C-466-08</td>\n",
       "      <td>Adopción como única posibilidad afecta la libe...</td>\n",
       "      <td>normal</td>\n",
       "      <td>normal</td>\n",
       "      <td>56</td>\n",
       "      <td>175</td>\n",
       "    </tr>\n",
       "    <tr>\n",
       "      <th>2</th>\n",
       "      <td>2</td>\n",
       "      <td>267083</td>\n",
       "      <td>T-577-19</td>\n",
       "      <td>.</td>\n",
       "      <td>énfasis_cita</td>\n",
       "      <td>normal</td>\n",
       "      <td>204</td>\n",
       "      <td>1263</td>\n",
       "    </tr>\n",
       "    <tr>\n",
       "      <th>3</th>\n",
       "      <td>3</td>\n",
       "      <td>553670</td>\n",
       "      <td>T-102-17</td>\n",
       "      <td>En el caso bajo estudio, se advierte que se cu...</td>\n",
       "      <td>normal</td>\n",
       "      <td>normal</td>\n",
       "      <td>123</td>\n",
       "      <td>4</td>\n",
       "    </tr>\n",
       "    <tr>\n",
       "      <th>4</th>\n",
       "      <td>4</td>\n",
       "      <td>154410</td>\n",
       "      <td>T-033-10</td>\n",
       "      <td>Cfr. Corte Constitucional, Sentencias T-001 d...</td>\n",
       "      <td>pie de página</td>\n",
       "      <td>pie de página</td>\n",
       "      <td>106</td>\n",
       "      <td>1</td>\n",
       "    </tr>\n",
       "    <tr>\n",
       "      <th>...</th>\n",
       "      <td>...</td>\n",
       "      <td>...</td>\n",
       "      <td>...</td>\n",
       "      <td>...</td>\n",
       "      <td>...</td>\n",
       "      <td>...</td>\n",
       "      <td>...</td>\n",
       "      <td>...</td>\n",
       "    </tr>\n",
       "    <tr>\n",
       "      <th>795</th>\n",
       "      <td>795</td>\n",
       "      <td>231112</td>\n",
       "      <td>SU813-07</td>\n",
       "      <td>como configuratoria de una vía de hecho y se ...</td>\n",
       "      <td>normal</td>\n",
       "      <td>normal</td>\n",
       "      <td>1084</td>\n",
       "      <td>769</td>\n",
       "    </tr>\n",
       "    <tr>\n",
       "      <th>796</th>\n",
       "      <td>796</td>\n",
       "      <td>111617</td>\n",
       "      <td>C-506-14</td>\n",
       "      <td>“(…) manejo de asuntos pertenecientes al exclu...</td>\n",
       "      <td>cita</td>\n",
       "      <td>cita</td>\n",
       "      <td>108</td>\n",
       "      <td>759</td>\n",
       "    </tr>\n",
       "    <tr>\n",
       "      <th>797</th>\n",
       "      <td>797</td>\n",
       "      <td>706007</td>\n",
       "      <td>C-108-00</td>\n",
       "      <td>(Sent. C-222 de 1995, M.P. José Gregorio Herná...</td>\n",
       "      <td>normal</td>\n",
       "      <td>normal</td>\n",
       "      <td>118</td>\n",
       "      <td>717</td>\n",
       "    </tr>\n",
       "    <tr>\n",
       "      <th>798</th>\n",
       "      <td>798</td>\n",
       "      <td>494706</td>\n",
       "      <td>T-1164-04</td>\n",
       "      <td>procedencia de la tutela para lograr la garant...</td>\n",
       "      <td>cita</td>\n",
       "      <td>cita</td>\n",
       "      <td>43</td>\n",
       "      <td>753</td>\n",
       "    </tr>\n",
       "    <tr>\n",
       "      <th>799</th>\n",
       "      <td>799</td>\n",
       "      <td>250046</td>\n",
       "      <td>C-828-06</td>\n",
       "      <td>JAIME CORDOBA TRIVIÑO Presidente</td>\n",
       "      <td>normal</td>\n",
       "      <td>normal</td>\n",
       "      <td>93</td>\n",
       "      <td>0</td>\n",
       "    </tr>\n",
       "  </tbody>\n",
       "</table>\n",
       "<p>800 rows × 8 columns</p>\n",
       "</div>"
      ],
      "text/plain": [
       "      id  old_id       name  \\\n",
       "0      0  100549   T-497-06   \n",
       "1      1  268479   C-466-08   \n",
       "2      2  267083   T-577-19   \n",
       "3      3  553670   T-102-17   \n",
       "4      4  154410   T-033-10   \n",
       "..   ...     ...        ...   \n",
       "795  795  231112   SU813-07   \n",
       "796  796  111617   C-506-14   \n",
       "797  797  706007   C-108-00   \n",
       "798  798  494706  T-1164-04   \n",
       "799  799  250046   C-828-06   \n",
       "\n",
       "                                                  text      text_type  \\\n",
       "0    la sentencia proferida por el Juzgado Tercero ...         normal   \n",
       "1    Adopción como única posibilidad afecta la libe...         normal   \n",
       "2                                                   .    énfasis_cita   \n",
       "3    En el caso bajo estudio, se advierte que se cu...         normal   \n",
       "4     Cfr. Corte Constitucional, Sentencias T-001 d...  pie de página   \n",
       "..                                                 ...            ...   \n",
       "795   como configuratoria de una vía de hecho y se ...         normal   \n",
       "796  “(…) manejo de asuntos pertenecientes al exclu...           cita   \n",
       "797  (Sent. C-222 de 1995, M.P. José Gregorio Herná...         normal   \n",
       "798  procedencia de la tutela para lograr la garant...           cita   \n",
       "799                   JAIME CORDOBA TRIVIÑO Presidente         normal   \n",
       "\n",
       "        real_label  paragraph_id  paragraph_pos  \n",
       "0           normal           100             17  \n",
       "1           normal            56            175  \n",
       "2           normal           204           1263  \n",
       "3           normal           123              4  \n",
       "4    pie de página           106              1  \n",
       "..             ...           ...            ...  \n",
       "795         normal          1084            769  \n",
       "796           cita           108            759  \n",
       "797         normal           118            717  \n",
       "798           cita            43            753  \n",
       "799         normal            93              0  \n",
       "\n",
       "[800 rows x 8 columns]"
      ]
     },
     "execution_count": 5,
     "metadata": {},
     "output_type": "execute_result"
    }
   ],
   "source": [
    "data"
   ]
  },
  {
   "cell_type": "code",
   "execution_count": 6,
   "id": "5595aa86",
   "metadata": {},
   "outputs": [
    {
     "data": {
      "text/plain": [
       "array(['normal', 'pie de página', 'pie de página_cita',\n",
       "       'número de pie de página', 'cita', 'énfasis', 'énfasis_cita',\n",
       "       'título_énfasis', None, 'título', 'pie de página_énfasis',\n",
       "       'pie de página_énfasis_cita', 'título_cita'], dtype=object)"
      ]
     },
     "execution_count": 6,
     "metadata": {},
     "output_type": "execute_result"
    }
   ],
   "source": [
    "data['real_label'].unique()"
   ]
  },
  {
   "cell_type": "markdown",
   "id": "4a6697eb",
   "metadata": {},
   "source": [
    "# Quitando los nulos (tienes 764 etiquetas)"
   ]
  },
  {
   "cell_type": "code",
   "execution_count": 8,
   "id": "02c04d47",
   "metadata": {},
   "outputs": [],
   "source": [
    "non_nulls=data[~data['real_label'].isnull()]"
   ]
  },
  {
   "cell_type": "code",
   "execution_count": 15,
   "id": "e7534428",
   "metadata": {},
   "outputs": [
    {
     "name": "stdout",
     "output_type": "stream",
     "text": [
      "                            precision    recall  f1-score   support\n",
      "\n",
      "                      cita       0.99      0.91      0.95       116\n",
      "                    normal       0.96      0.98      0.97       401\n",
      "   número de pie de página       0.96      0.88      0.92        74\n",
      "             pie de página       0.84      0.89      0.86        63\n",
      "        pie de página_cita       0.73      0.73      0.73        11\n",
      "     pie de página_énfasis       1.00      0.50      0.67         4\n",
      "pie de página_énfasis_cita       0.00      0.00      0.00         1\n",
      "                    título       0.33      1.00      0.50         3\n",
      "               título_cita       0.00      0.00      0.00         1\n",
      "            título_énfasis       1.00      0.20      0.33         5\n",
      "                   énfasis       0.93      1.00      0.96        74\n",
      "              énfasis_cita       0.85      1.00      0.92        11\n",
      "\n",
      "                  accuracy                           0.94       764\n",
      "                 macro avg       0.71      0.67      0.65       764\n",
      "              weighted avg       0.94      0.94      0.94       764\n",
      "\n"
     ]
    },
    {
     "name": "stderr",
     "output_type": "stream",
     "text": [
      "/home/andres/.local/lib/python3.10/site-packages/sklearn/metrics/_classification.py:1344: UndefinedMetricWarning: Precision and F-score are ill-defined and being set to 0.0 in labels with no predicted samples. Use `zero_division` parameter to control this behavior.\n",
      "  _warn_prf(average, modifier, msg_start, len(result))\n",
      "/home/andres/.local/lib/python3.10/site-packages/sklearn/metrics/_classification.py:1344: UndefinedMetricWarning: Precision and F-score are ill-defined and being set to 0.0 in labels with no predicted samples. Use `zero_division` parameter to control this behavior.\n",
      "  _warn_prf(average, modifier, msg_start, len(result))\n",
      "/home/andres/.local/lib/python3.10/site-packages/sklearn/metrics/_classification.py:1344: UndefinedMetricWarning: Precision and F-score are ill-defined and being set to 0.0 in labels with no predicted samples. Use `zero_division` parameter to control this behavior.\n",
      "  _warn_prf(average, modifier, msg_start, len(result))\n"
     ]
    }
   ],
   "source": [
    "print(classification_report(non_nulls['real_label'].values,non_nulls['text_type'].values ))"
   ]
  },
  {
   "cell_type": "markdown",
   "id": "fd94f57d",
   "metadata": {},
   "source": [
    "# Asignando una etiqueta \"no label\" a los nulos"
   ]
  },
  {
   "cell_type": "code",
   "execution_count": 10,
   "id": "ec786a11",
   "metadata": {},
   "outputs": [],
   "source": [
    "data_with_nulls=data.copy()"
   ]
  },
  {
   "cell_type": "code",
   "execution_count": 11,
   "id": "5323610c",
   "metadata": {},
   "outputs": [],
   "source": [
    "data_with_nulls['real_label']=data_with_nulls['real_label'].fillna('Sin etiqueta')"
   ]
  },
  {
   "cell_type": "code",
   "execution_count": 12,
   "id": "46bfb197",
   "metadata": {},
   "outputs": [
    {
     "data": {
      "text/plain": [
       "array(['normal', 'pie de página', 'pie de página_cita',\n",
       "       'número de pie de página', 'cita', 'énfasis', 'énfasis_cita',\n",
       "       'título_énfasis', 'Sin etiqueta', 'título',\n",
       "       'pie de página_énfasis', 'pie de página_énfasis_cita',\n",
       "       'título_cita'], dtype=object)"
      ]
     },
     "execution_count": 12,
     "metadata": {},
     "output_type": "execute_result"
    }
   ],
   "source": [
    "data_with_nulls['real_label'].unique()"
   ]
  },
  {
   "cell_type": "code",
   "execution_count": 16,
   "id": "6a185b6a",
   "metadata": {},
   "outputs": [
    {
     "name": "stdout",
     "output_type": "stream",
     "text": [
      "                            precision    recall  f1-score   support\n",
      "\n",
      "              Sin etiqueta       0.00      0.00      0.00        36\n",
      "                      cita       0.94      0.91      0.92       116\n",
      "                    normal       0.94      0.98      0.96       401\n",
      "   número de pie de página       0.81      0.88      0.84        74\n",
      "             pie de página       0.78      0.89      0.83        63\n",
      "        pie de página_cita       0.67      0.73      0.70        11\n",
      "     pie de página_énfasis       1.00      0.50      0.67         4\n",
      "pie de página_énfasis_cita       0.00      0.00      0.00         1\n",
      "                    título       0.30      1.00      0.46         3\n",
      "               título_cita       0.00      0.00      0.00         1\n",
      "            título_énfasis       1.00      0.20      0.33         5\n",
      "                   énfasis       0.91      1.00      0.95        74\n",
      "              énfasis_cita       0.85      1.00      0.92        11\n",
      "\n",
      "                  accuracy                           0.90       800\n",
      "                 macro avg       0.63      0.62      0.58       800\n",
      "              weighted avg       0.86      0.90      0.87       800\n",
      "\n"
     ]
    },
    {
     "name": "stderr",
     "output_type": "stream",
     "text": [
      "/home/andres/.local/lib/python3.10/site-packages/sklearn/metrics/_classification.py:1344: UndefinedMetricWarning: Precision and F-score are ill-defined and being set to 0.0 in labels with no predicted samples. Use `zero_division` parameter to control this behavior.\n",
      "  _warn_prf(average, modifier, msg_start, len(result))\n",
      "/home/andres/.local/lib/python3.10/site-packages/sklearn/metrics/_classification.py:1344: UndefinedMetricWarning: Precision and F-score are ill-defined and being set to 0.0 in labels with no predicted samples. Use `zero_division` parameter to control this behavior.\n",
      "  _warn_prf(average, modifier, msg_start, len(result))\n",
      "/home/andres/.local/lib/python3.10/site-packages/sklearn/metrics/_classification.py:1344: UndefinedMetricWarning: Precision and F-score are ill-defined and being set to 0.0 in labels with no predicted samples. Use `zero_division` parameter to control this behavior.\n",
      "  _warn_prf(average, modifier, msg_start, len(result))\n"
     ]
    }
   ],
   "source": [
    "print(classification_report(data_with_nulls['real_label'].values,data_with_nulls['text_type'].values ))"
   ]
  },
  {
   "cell_type": "code",
   "execution_count": null,
   "id": "bbb8faba",
   "metadata": {},
   "outputs": [],
   "source": []
  }
 ],
 "metadata": {
  "kernelspec": {
   "display_name": "Python 3 (ipykernel)",
   "language": "python",
   "name": "python3"
  },
  "language_info": {
   "codemirror_mode": {
    "name": "ipython",
    "version": 3
   },
   "file_extension": ".py",
   "mimetype": "text/x-python",
   "name": "python",
   "nbconvert_exporter": "python",
   "pygments_lexer": "ipython3",
   "version": "3.10.12"
  }
 },
 "nbformat": 4,
 "nbformat_minor": 5
}
